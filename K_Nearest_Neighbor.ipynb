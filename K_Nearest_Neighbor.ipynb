{
  "cells": [
    {
      "cell_type": "code",
      "execution_count": null,
      "metadata": {
        "id": "AKeJiOaSIW9_"
      },
      "outputs": [],
      "source": [
        "# Copyright (c) 2022 Chloe Woolwine"
      ]
    },
    {
      "cell_type": "markdown",
      "source": [
        "A K-Nearest Neighbor Classifier using a Diabetic Retinopathy data set. Classifies into likely to have (1) versus unlikely to have (0)"
      ],
      "metadata": {
        "id": "9MJ3ubpnb10w"
      }
    },
    {
      "cell_type": "code",
      "execution_count": 2,
      "metadata": {
        "id": "WSK7lm1vIW-B"
      },
      "outputs": [],
      "source": [
        "\n",
        "import pandas as pd\n",
        "import numpy as np\n",
        "import time"
      ]
    },
    {
      "cell_type": "code",
      "execution_count": 4,
      "metadata": {
        "id": "pltM0J1KIW-C",
        "colab": {
          "base_uri": "https://localhost:8080/"
        },
        "outputId": "3577b7a6-be92-4c81-af10-35b0fc3b84ff"
      },
      "outputs": [
        {
          "output_type": "stream",
          "name": "stdout",
          "text": [
            "\n",
            "\n",
            "Test KNN: \n",
            "train_data shape= (25, 20)\n",
            "test_data shape= (1, 20)\n",
            "\n",
            "Q1.\n",
            "Values before norm:\n",
            "Train: [0.0, 1.0, 56.0, 53.0, 50.0, 48.0, 44.0, 34.0, 48.811069, 23.4443, 11.447292, 2.439939, 0.173514, 0.0, 0.0, 0.0, 0.487553, 0.087525, 0.0, 0.0]\n",
            "Test: [1.0, 1.0, 40.0, 38.0, 33.0, 25.0, 20.0, 12.0, 73.082699, 23.121256, 13.093588, 5.437382, 3.845287, 2.028783, 0.518568, 0.10715, 0.527112, 0.105129, 1.0, 1.0]\n"
          ]
        }
      ],
      "source": [
        "def get_data(filename):\n",
        "    data = pd.read_csv(filename, header=None)\n",
        "    \n",
        "    return data\n",
        "\n",
        "print(\"\\n\\nTest KNN: \")\n",
        "\n",
        "train_set = get_data(\"sample_train_KNN.txt\")\n",
        "test_set = get_data(\"sample_test_KNN.txt\")\n",
        "\n",
        "print(\"train_data shape=\", train_set.shape)\n",
        "print(\"test_data shape=\", test_set.shape)\n",
        "\n",
        "print(\"\\nQ1.\\nValues before norm:\")\n",
        "print(\"Train:\", list(train_set.iloc[0,:]))\n",
        "print(\"Test:\", list(test_set.iloc[0,:]))"
      ]
    },
    {
      "cell_type": "markdown",
      "metadata": {
        "id": "wga5a1BkIW-D"
      },
      "source": [
        "Function to print a confusion matrix for easy data analysis\n"
      ]
    },
    {
      "cell_type": "code",
      "execution_count": 5,
      "metadata": {
        "id": "6iuf-SzhIW-E"
      },
      "outputs": [],
      "source": [
        "def print_confusion_matrix(TP, FN, FP, TN):\n",
        "    table_data = [[TP,FN],[FP,TN]]\n",
        "    df = pd.DataFrame(table_data, columns =['Predicted 1','Predicted 0'])\n",
        "    df = df.rename(index={0: 'Actual 1', 1: 'Actual 0'})\n",
        "    display(df)"
      ]
    },
    {
      "cell_type": "markdown",
      "metadata": {
        "id": "cpcTXeavIW-F"
      },
      "source": [
        "\n",
        "Normalizes data so each feature is between [0-1]"
      ]
    },
    {
      "cell_type": "code",
      "execution_count": 6,
      "metadata": {
        "id": "RAsjuegyIW-H",
        "colab": {
          "base_uri": "https://localhost:8080/"
        },
        "outputId": "0e3b812b-cab9-4e01-a7a7-28ba16d86c4f"
      },
      "outputs": [
        {
          "output_type": "stream",
          "name": "stdout",
          "text": [
            "\n",
            "Values after norm:\n",
            "Train: [0.0, 1.0, 0.5161290322580645, 0.569620253164557, 0.6470588235294118, 0.65625, 0.6060606060606061, 0.5, 0.1860328709289841, 0.4204396404200586, 0.3544116090682406, 0.21814933392604677, 0.04763746830716687, 0.0, 0.0, 0.0, 0.07254881377283225, 0.37045307443365716, 0.0, 0.0]\n",
            "Test: [1.0, 1.0, 0.34408602150537637, 0.379746835443038, 0.39705882352941174, 0.296875, 0.24242424242424243, 0.14516129032258066, 0.28531683293159166, 0.4145704766038485, 0.40562660799714984, 0.4861438181862236, 1.055705808144938, 1.1130298772683358, 0.4579189276300395, 0.34138011233842985, 0.48782280075582624, 0.6553074433656959, 1.0, 1.0]\n"
          ]
        }
      ],
      "source": [
        "def normalize_data(train, test):\n",
        "    train_norm = (train - train.min())/(train.max() - train.min())\n",
        "    test_norm = (test - train.min())/(train.max() - train.min())\n",
        "    return train_norm, test_norm\n",
        "\n",
        "train_set = get_data(\"sample_train_KNN.txt\")\n",
        "test_set = get_data(\"sample_test_KNN.txt\")\n",
        "\n",
        "\n",
        "#normalize the data\n",
        "train_set, test_set = normalize_data(train_set, test_set)\n",
        "\n",
        "print(\"\\nValues after norm:\")\n",
        "print(\"Train:\", list(train_set.iloc[0,:]))\n",
        "print(\"Test:\", list(test_set.iloc[0,:]))"
      ]
    },
    {
      "cell_type": "markdown",
      "metadata": {
        "id": "JryybjV-IW-H"
      },
      "source": [
        "\n",
        "Euclidean distance calculation. Utilizes the functionality of a DataFrame to vectorize the calculation for speed. "
      ]
    },
    {
      "cell_type": "code",
      "execution_count": 9,
      "metadata": {
        "id": "fk3OHTdfIW-I",
        "colab": {
          "base_uri": "https://localhost:8080/"
        },
        "outputId": "d340ee55-6773-495d-d41c-46d36b3b3bea"
      },
      "outputs": [
        {
          "output_type": "stream",
          "name": "stdout",
          "text": [
            "0      54.587466\n",
            "1      68.178668\n",
            "2      64.764976\n",
            "3      70.110928\n",
            "4      77.023575\n",
            "5      70.425542\n",
            "6      64.642334\n",
            "7      42.529562\n",
            "8      93.458977\n",
            "9      16.170888\n",
            "10     61.211608\n",
            "11     70.363062\n",
            "12     53.948781\n",
            "13     82.947397\n",
            "14    182.018275\n",
            "15     32.691960\n",
            "16     36.760323\n",
            "17     35.379534\n",
            "18     72.648410\n",
            "19    122.491586\n",
            "20     82.804374\n",
            "21     80.976125\n",
            "22     61.606595\n",
            "23     60.032295\n",
            "24    109.108442\n",
            "Name: distance, dtype: float64\n"
          ]
        }
      ],
      "source": [
        "def get_distances(point, df):\n",
        "    nolabel = df.loc[:, df.columns != 19]\n",
        "    out = (nolabel[:] - point[:19]).pow(2).sum(1).pow(.5)\n",
        "    df['distance'] = out\n",
        "    return df\n",
        "\n",
        "# show distance from 0th test record to each of the 25 training records\n",
        "dist = get_distances(list(test_set.iloc[0,:]), train_set)\n",
        "print(dist['distance'])\n",
        "#print(dist)"
      ]
    },
    {
      "cell_type": "markdown",
      "metadata": {
        "id": "PUc3HUrEIW-I"
      },
      "source": [
        "\n",
        "Takes in training set, test set, and K and puts everything together to run the KNN algorithm. Returns the predicted labels as a list. "
      ]
    },
    {
      "cell_type": "code",
      "execution_count": 10,
      "metadata": {
        "id": "WW4LZocWIW-J",
        "colab": {
          "base_uri": "https://localhost:8080/"
        },
        "outputId": "52cb3328-a3bb-4f0e-b440-45cf7bbf3a5a"
      },
      "outputs": [
        {
          "output_type": "stream",
          "name": "stdout",
          "text": [
            "[0]\n"
          ]
        }
      ],
      "source": [
        "def run_knn(train_set, test_set, k):\n",
        "    train, test = normalize_data(train_set,test_set)\n",
        "    preds = []\n",
        "\n",
        "    for i in range (len(test_set)):\n",
        "        distances = get_distances(test.iloc[i,:], train)\n",
        "        leastK = distances.nsmallest(k,'distance')\n",
        "        leastK = leastK[[19, 'distance']]\n",
        "        vals = leastK[19].value_counts()\n",
        "        #print(vals.keys()[0])\n",
        "        if(len(vals.keys()) == 1):\n",
        "            preds.append(vals.keys()[0])\n",
        "        else:\n",
        "            pos = vals.loc[1]\n",
        "            neg = vals.loc[0]\n",
        "            #print(\"positive: \", pos, \" negative\", neg)\n",
        "            if(pos >= neg):\n",
        "                preds.append(1)\n",
        "            else:\n",
        "                preds.append(0)\n",
        "\n",
        "\n",
        "\n",
        "    return preds\n",
        "\n",
        "# Re-read data (to un-do normalization)\n",
        "train_set = get_data(\"sample_train_KNN.txt\")\n",
        "test_set = get_data(\"sample_test_KNN.txt\")\n",
        "\n",
        "# classify one test record with k=3\n",
        "#one_test_record = pd.DataFrame(test_set.iloc[0]).transpose()\n",
        "preds = run_knn(train_set, test_set, k=3)\n",
        "# need to un-comment printouts in run_knn() to see results\n",
        "#print(preds[19].value_counts().count())\n",
        "print(preds)"
      ]
    },
    {
      "cell_type": "markdown",
      "metadata": {
        "id": "4CTYxjDTIW-J"
      },
      "source": [
        "Inner loop of a nested cross validation to find the best value of K between 1 and 10. Uses 5-fold cross validation to evaluate accuracy. Each fold is divided into training and validation. "
      ]
    },
    {
      "cell_type": "code",
      "execution_count": 12,
      "metadata": {
        "id": "i1xsDAupIW-K",
        "colab": {
          "base_uri": "https://localhost:8080/"
        },
        "outputId": "7d8e1c2d-90b2-486a-e095-a2bfd83bdcbb"
      },
      "outputs": [
        {
          "output_type": "stream",
          "name": "stdout",
          "text": [
            "average accuracy for  1  is  0.6\n",
            "average accuracy for  3  is  0.44000000000000006\n",
            "average accuracy for  5  is  0.56\n",
            "average accuracy for  7  is  0.5599999999999999\n",
            "average accuracy for  9  is  0.56\n",
            "the best k is  1\n"
          ]
        }
      ],
      "source": [
        "def calc_accuracy(preds, actual):\n",
        "    #print(preds)\n",
        "    #print(actual)     \n",
        "    correct = 0\n",
        "    for i in range(len(preds)):\n",
        "        if preds[i] == actual.iloc[i]:\n",
        "            correct += 1\n",
        "    return correct / len(preds)\n",
        "\n",
        "def partition_data(data, testfold, totalfolds):\n",
        "    train_set = None\n",
        "    test_set = None\n",
        "\n",
        "    foldsize = int(len(data)/totalfolds)\n",
        "    start = foldsize * testfold\n",
        "    end = start + foldsize\n",
        "\n",
        "    test_set = data.iloc[start:end,:]\n",
        "    train_set = data.drop(range(start,end))\n",
        "\n",
        "    test_set.index = range(len(test_set.index))\n",
        "    train_set.index = range(len(train_set.index))\n",
        "    #print ('Training set size:', len(train_set))\n",
        "    #print ('Test set size    :', len(test_set))\n",
        "    return train_set, test_set\n",
        "\n",
        "def find_best_k(data):\n",
        "    numfolds = 5\n",
        "    best_accuracy = 0\n",
        "    best_k = 0\n",
        "    for k in range(1, 11, 2):\n",
        "        accuracy_sum = 0\n",
        "        for i in range(0, numfolds):\n",
        "            train_set, test_set = partition_data(data, i, numfolds)\n",
        "            preds = run_knn(train_set, test_set, k)\n",
        "          #  print(\"k = \", k, \" iteration = \", i, \" preds = \")\n",
        "            accuracy = calc_accuracy(preds, test_set[19])\n",
        "            accuracy_sum += accuracy\n",
        "\n",
        "        accuracy_sum = (accuracy_sum/numfolds)\n",
        "        print(\"average accuracy for \", k, \" is \", accuracy_sum)\n",
        "        if accuracy_sum > best_accuracy:\n",
        "            best_accuracy = accuracy_sum\n",
        "            best_k = k\n",
        "\n",
        "    print(\"the best k is \", best_k)\n",
        "    return best_k\n",
        "\n",
        "\n",
        "# Re-read data (to un-do normalization)\n",
        "train_set = get_data(\"sample_train_KNN.txt\")\n",
        "test_set = get_data(\"sample_test_KNN.txt\")\n",
        "\n",
        "# find the best k on the training set\n",
        "k = find_best_k(train_set) \n",
        "# need to un-comment printouts in find_best_k() to see results"
      ]
    },
    {
      "cell_type": "markdown",
      "metadata": {
        "id": "d2bap23KIW-K"
      },
      "source": [
        "Measures the accuracy of entire classifier using 5-fold cross validation. Final accuracy is obtained by averaging accuracy of each fold\n"
      ]
    },
    {
      "cell_type": "code",
      "execution_count": null,
      "metadata": {
        "id": "8U04SRmQIW-K",
        "scrolled": true,
        "outputId": "3d730982-4a0c-4948-f43f-4537a67e3aa7"
      },
      "outputs": [
        {
          "name": "stdout",
          "output_type": "stream",
          "text": [
            "fold:  0\n",
            "average accuracy for  1  is  0.6152173913043478\n",
            "average accuracy for  3  is  0.6282608695652174\n",
            "average accuracy for  5  is  0.6163043478260869\n",
            "average accuracy for  7  is  0.6402173913043476\n",
            "average accuracy for  9  is  0.6260869565217391\n",
            "the best k is  7\n",
            "the accuracy for this fold is  0.6173913043478261\n",
            "fold:  1\n",
            "average accuracy for  1  is  0.5989130434782609\n",
            "average accuracy for  3  is  0.6152173913043477\n",
            "average accuracy for  5  is  0.6347826086956522\n",
            "average accuracy for  7  is  0.6304347826086956\n",
            "average accuracy for  9  is  0.6217391304347826\n",
            "the best k is  5\n",
            "the accuracy for this fold is  0.6217391304347826\n",
            "fold:  2\n",
            "average accuracy for  1  is  0.5978260869565217\n",
            "average accuracy for  3  is  0.5967391304347827\n",
            "average accuracy for  5  is  0.6076086956521739\n",
            "average accuracy for  7  is  0.6163043478260869\n",
            "average accuracy for  9  is  0.6228260869565216\n",
            "the best k is  9\n",
            "the accuracy for this fold is  0.6434782608695652\n",
            "fold:  3\n",
            "average accuracy for  1  is  0.6119565217391304\n",
            "average accuracy for  3  is  0.6467391304347826\n",
            "average accuracy for  5  is  0.642391304347826\n",
            "average accuracy for  7  is  0.6369565217391304\n",
            "average accuracy for  9  is  0.6543478260869564\n",
            "the best k is  9\n",
            "the accuracy for this fold is  0.5956521739130435\n",
            "fold:  4\n",
            "average accuracy for  1  is  0.6217391304347826\n",
            "average accuracy for  3  is  0.6076086956521739\n",
            "average accuracy for  5  is  0.6239130434782608\n",
            "average accuracy for  7  is  0.6152173913043478\n",
            "average accuracy for  9  is  0.6141304347826086\n",
            "the best k is  5\n",
            "the accuracy for this fold is  0.6260869565217392\n",
            "\n",
            "Total time: 96.81790542602539\n",
            "accuracy =  0.6208695652173912\n",
            "percision =  0.6588021778584392\n",
            "recall =  0.5941080196399345\n"
          ]
        },
        {
          "data": {
            "text/html": [
              "<div>\n",
              "<style scoped>\n",
              "    .dataframe tbody tr th:only-of-type {\n",
              "        vertical-align: middle;\n",
              "    }\n",
              "\n",
              "    .dataframe tbody tr th {\n",
              "        vertical-align: top;\n",
              "    }\n",
              "\n",
              "    .dataframe thead th {\n",
              "        text-align: right;\n",
              "    }\n",
              "</style>\n",
              "<table border=\"1\" class=\"dataframe\">\n",
              "  <thead>\n",
              "    <tr style=\"text-align: right;\">\n",
              "      <th></th>\n",
              "      <th>Predicted 1</th>\n",
              "      <th>Predicted 0</th>\n",
              "    </tr>\n",
              "  </thead>\n",
              "  <tbody>\n",
              "    <tr>\n",
              "      <th>Actual 1</th>\n",
              "      <td>363</td>\n",
              "      <td>248</td>\n",
              "    </tr>\n",
              "    <tr>\n",
              "      <th>Actual 0</th>\n",
              "      <td>188</td>\n",
              "      <td>351</td>\n",
              "    </tr>\n",
              "  </tbody>\n",
              "</table>\n",
              "</div>"
            ],
            "text/plain": [
              "          Predicted 1  Predicted 0\n",
              "Actual 1          363          248\n",
              "Actual 0          188          351"
            ]
          },
          "metadata": {},
          "output_type": "display_data"
        }
      ],
      "source": [
        "def calc_accuracy_and_confusion(preds, actual):\n",
        "    #print(preds)\n",
        "    #print(actual)     \n",
        "    correct = 0\n",
        "    truepos = 0\n",
        "    falsepos = 0\n",
        "    trueneg = 0\n",
        "    falseneg = 0\n",
        "    for i in range(len(preds)):\n",
        "        if preds[i] == actual.iloc[i]:\n",
        "            correct += 1\n",
        "            if preds[i] == 0:\n",
        "                trueneg += 1\n",
        "            else:\n",
        "                truepos += 1\n",
        "        else:\n",
        "            if preds[i] == 0:\n",
        "                falseneg += 1\n",
        "            else:\n",
        "                falsepos +=1\n",
        "    return correct / len(preds), truepos, falsepos, trueneg, falseneg\n",
        "\n",
        "# read in data\n",
        "data = get_data('messidor_features.txt')\n",
        "numfolds = 5\n",
        "start_time = time.time()\n",
        "\n",
        "accuracy_sum = 0\n",
        "truepos = 0\n",
        "falsepos = 0\n",
        "trueneg = 0\n",
        "falseneg = 0\n",
        "\n",
        "for i in range(5):\n",
        "    print(\"fold: \", i)\n",
        "    train_set, test_set = partition_data(data, i, numfolds)\n",
        "    k = find_best_k(train_set)\n",
        "    preds = run_knn(train_set, test_set, k)\n",
        "    accuracy, tp, fp, tn, fn= calc_accuracy_and_confusion(preds, test_set[19])\n",
        "    truepos += tp\n",
        "    falsepos += fp\n",
        "    trueneg += tn\n",
        "    falseneg += fn\n",
        "    accuracy_sum += accuracy\n",
        "    print(\"the accuracy for this fold is \", accuracy)\n",
        "\n",
        "accuracy_sum = accuracy_sum/numfolds\n",
        "end_time = time.time()\n",
        "print('\\nTotal time:', end_time - start_time)\n",
        "print(\"accuracy = \", accuracy_sum)\n",
        "print(\"percision = \", truepos / (truepos+falsepos))\n",
        "print(\"recall = \", truepos / (truepos+falseneg))\n",
        "print_confusion_matrix(truepos, falseneg, falsepos, trueneg)\n"
      ]
    }
  ],
  "metadata": {
    "colab": {
      "collapsed_sections": [],
      "name": "K-Nearest Neighbor",
      "provenance": []
    },
    "kernelspec": {
      "display_name": "Python 3.8.8 ('base')",
      "language": "python",
      "name": "python3"
    },
    "language_info": {
      "codemirror_mode": {
        "name": "ipython",
        "version": 3
      },
      "file_extension": ".py",
      "mimetype": "text/x-python",
      "name": "python",
      "nbconvert_exporter": "python",
      "pygments_lexer": "ipython3",
      "version": "3.8.8"
    },
    "vscode": {
      "interpreter": {
        "hash": "a0002ca97fa5ee54dc2e4008fbe9eabec60bb4400642f4fca2bafe1dfe14f90e"
      }
    }
  },
  "nbformat": 4,
  "nbformat_minor": 0
}